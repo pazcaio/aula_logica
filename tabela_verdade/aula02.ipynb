{
 "cells": [
  {
   "cell_type": "code",
   "execution_count": 23,
   "id": "ff410d72-b701-47e1-a336-3ec5ca8066ac",
   "metadata": {},
   "outputs": [
    {
     "name": "stdout",
     "output_type": "stream",
     "text": [
      "a): ¬(𝑝 ∨ 𝑟) ↔ (¬𝑝 ∧ ¬𝑞)\n"
     ]
    }
   ],
   "source": [
    "print(f'a): ¬(𝑝 ∨ 𝑟) ↔ (¬𝑝 ∧ ¬𝑞)')"
   ]
  },
  {
   "cell_type": "code",
   "execution_count": 17,
   "id": "1b15365a-06a9-47af-a49c-d21f40bd0b78",
   "metadata": {},
   "outputs": [
    {
     "name": "stdout",
     "output_type": "stream",
     "text": [
      "V | V | V | V\n",
      "V | F | F | F\n",
      "F | V | F | F\n",
      "F | F | V | F\n"
     ]
    }
   ],
   "source": [
    "n=0\n",
    "for a in range(0, 2, 1):\n",
    "    for b in range(0, 2, 1):\n",
    "        if a == 0:\n",
    "            P = 'V'\n",
    "        else:\n",
    "            P = 'F'\n",
    "        if b == 0:\n",
    "            Q = 'V'\n",
    "        else:\n",
    "            Q = 'F'\n",
    "        if P == Q:\n",
    "            PQ = 'V'\n",
    "        else:\n",
    "            PQ = 'F'\n",
    "        if P == 'V' and PQ == 'V':\n",
    "            print(f'{P} | {Q} | {PQ} | V')\n",
    "            n = n+1\n",
    "        else:\n",
    "            print(f'{P} | {Q} | {PQ} | F')        "
   ]
  },
  {
   "cell_type": "code",
   "execution_count": 15,
   "id": "f5d7dc15-b25e-492c-80aa-d903c22f3732",
   "metadata": {},
   "outputs": [
    {
     "name": "stdout",
     "output_type": "stream",
     "text": [
      "A tabela verdade é uma contigência\n"
     ]
    }
   ],
   "source": [
    "if n==0:\n",
    "    print('A tabela verdade é uma contradição')\n",
    "elif n==4:\n",
    "    print('A tabela verdade é uma tautologia')\n",
    "else:\n",
    "    print('A tabela verdade é uma contigência')"
   ]
  },
  {
   "cell_type": "code",
   "execution_count": 25,
   "id": "ddf8fd7b-4232-4c2b-97bf-4aad0074b9c3",
   "metadata": {},
   "outputs": [
    {
     "name": "stdout",
     "output_type": "stream",
     "text": [
      "b) ¬(𝑝 ∨ 𝑟) ↔ (¬𝑝 ∧ ¬𝑞)\n"
     ]
    }
   ],
   "source": [
    "print('b) ¬(𝑝 ∨ 𝑟) ↔ (¬𝑝 ∧ ¬𝑞)')\n",
    "        "
   ]
  },
  {
   "cell_type": "code",
   "execution_count": 39,
   "id": "15b856ca-f573-4c27-90a0-730308be4c41",
   "metadata": {},
   "outputs": [
    {
     "name": "stdout",
     "output_type": "stream",
     "text": [
      "V | V | V | F | V | F | F\n",
      "V | V | F | F | F | V | V\n",
      "V | F | V | F | V | F | F\n",
      "V | F | F | F | F | V | V\n",
      "F | V | V | F | F | V | V\n",
      "F | V | F | F | F | V | V\n",
      "F | F | V | V | F | F | F\n",
      "F | F | F | V | F | F | F\n"
     ]
    }
   ],
   "source": [
    "n = 0\n",
    "for a in range(0, 2, 1):\n",
    "    for b in range(0, 2, 1):\n",
    "        for c in range(0, 2, 1):\n",
    "            if a == 0:\n",
    "                p = 'V'\n",
    "            else:\n",
    "                p = 'F'\n",
    "            if b == 0:\n",
    "                r = 'V'\n",
    "            else:\n",
    "                r = 'F'\n",
    "            if c == 0:\n",
    "                q = 'V'\n",
    "            else:\n",
    "                q = 'F'\n",
    "            if (p=='F') and (r=='F'): ## or\n",
    "                pr = 'V'\n",
    "            else:\n",
    "                pr = 'F'\n",
    "            if (p=='V') and (q=='V'):\n",
    "                pq = 'V'\n",
    "            else:\n",
    "                pq = 'F'\n",
    "            if pr == pq:\n",
    "                prpq = 'V'\n",
    "                n= n+1\n",
    "                print(f'{p} | {r} | {q} | {pr} | {pq} | {prpq} | V')\n",
    "            else:\n",
    "                prpq = 'F'\n",
    "                print(f'{p} | {r} | {q} | {pr} | {pq} | {prpq} | F')\n",
    "if n == 0:\n",
    "    print('Contradição')\n",
    "elif n == 8:\n",
    "    print('Tautologia')\n"
   ]
  },
  {
   "cell_type": "code",
   "execution_count": 41,
   "id": "8cbee939-4f30-48e9-b293-a30c063676e8",
   "metadata": {},
   "outputs": [
    {
     "name": "stdout",
     "output_type": "stream",
     "text": [
      "A tabela verdade é uma contigência\n"
     ]
    }
   ],
   "source": [
    "if n==0:\n",
    "    print('A tabela verdade é uma contradição')\n",
    "elif n==4:\n",
    "    print('A tabela verdade é uma tautologia')\n",
    "else:\n",
    "    print('A tabela verdade é uma contigência')"
   ]
  },
  {
   "cell_type": "code",
   "execution_count": null,
   "id": "3b0f452e-fd64-43f5-9475-20724c9a197b",
   "metadata": {},
   "outputs": [],
   "source": []
  }
 ],
 "metadata": {
  "kernelspec": {
   "display_name": "Python [conda env:base] *",
   "language": "python",
   "name": "conda-base-py"
  },
  "language_info": {
   "codemirror_mode": {
    "name": "ipython",
    "version": 3
   },
   "file_extension": ".py",
   "mimetype": "text/x-python",
   "name": "python",
   "nbconvert_exporter": "python",
   "pygments_lexer": "ipython3",
   "version": "3.12.7"
  }
 },
 "nbformat": 4,
 "nbformat_minor": 5
}
