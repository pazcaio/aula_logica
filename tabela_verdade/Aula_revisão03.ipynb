{
 "cells": [
  {
   "cell_type": "code",
   "execution_count": 1,
   "id": "616b6db7-8c45-4015-bb9e-9133772829bc",
   "metadata": {},
   "outputs": [
    {
     "name": "stdout",
     "output_type": "stream",
     "text": [
      "V | V | V | F | V | F | F\n",
      "V | V | F | F | F | V | V\n",
      "V | F | V | F | V | F | F\n",
      "V | F | F | F | F | V | V\n",
      "F | V | V | F | F | V | V\n",
      "F | V | F | F | F | V | V\n",
      "F | F | V | V | F | F | F\n",
      "F | F | F | V | F | F | F\n",
      "Contigência\n"
     ]
    }
   ],
   "source": [
    "Exercicio D\n",
    "n = 0\n",
    "for a in range(0, 2, 1):\n",
    "    for b in range(0, 2, 1):\n",
    "        for c in range(0, 2, 1):\n",
    "            if a == 0:\n",
    "                p = 'V'\n",
    "            else:\n",
    "                p = 'F'\n",
    "            if b == 0:\n",
    "                r = 'V'\n",
    "            else:\n",
    "                r = 'F'\n",
    "            if c == 0:\n",
    "                q = 'V'\n",
    "            else:\n",
    "                q = 'F'\n",
    "            if (p=='F') and (r=='F'): ## or\n",
    "                pr = 'V'\n",
    "            else:\n",
    "                pr = 'F'\n",
    "            if (p=='V') and (q=='V'):\n",
    "                pq = 'V'\n",
    "            else:\n",
    "                pq = 'F'\n",
    "            if pr == pq:\n",
    "                prpq = 'V'\n",
    "                n= n+1\n",
    "                print(f'{p} | {r} | {q} | {pr} | {pq} | {prpq} | V')\n",
    "            else:\n",
    "                prpq = 'F'\n",
    "                print(f'{p} | {r} | {q} | {pr} | {pq} | {prpq} | F')\n",
    "if n == 0:\n",
    "    print('Contradição')\n",
    "elif n == 8:\n",
    "    print('Tautologia')\n",
    "else:\n",
    "    print('Contigência')"
   ]
  },
  {
   "cell_type": "code",
   "execution_count": null,
   "id": "99d4e376-ea26-4393-85e1-04b25e72a385",
   "metadata": {},
   "outputs": [],
   "source": []
  }
 ],
 "metadata": {
  "kernelspec": {
   "display_name": "Python [conda env:base] *",
   "language": "python",
   "name": "conda-base-py"
  },
  "language_info": {
   "codemirror_mode": {
    "name": "ipython",
    "version": 3
   },
   "file_extension": ".py",
   "mimetype": "text/x-python",
   "name": "python",
   "nbconvert_exporter": "python",
   "pygments_lexer": "ipython3",
   "version": "3.12.7"
  }
 },
 "nbformat": 4,
 "nbformat_minor": 5
}
